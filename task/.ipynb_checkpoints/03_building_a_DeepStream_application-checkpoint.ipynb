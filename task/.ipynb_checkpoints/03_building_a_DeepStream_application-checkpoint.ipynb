{
 "cells": [
  {
   "cell_type": "markdown",
   "id": "4adffc61",
   "metadata": {},
   "source": [
    "<a href=\"https://www.nvidia.com/dli\"> <img src=\"images/DLI_Header.png\" alt=\"Header\" style=\"width: 400px;\"/> </a>"
   ]
  },
  {
   "cell_type": "markdown",
   "id": "d926832c",
   "metadata": {},
   "source": [
    "# Building a DeepStream Application #\n",
    "Now that we have established the fundamentals, we are ready to build a basic video AI application. DeepStream supports application development in C/C++ and in Python through [gst-python](https://gstreamer.freedesktop.org/modules/gst-python.html), the GStreamer framework’s Python bindings. To make it easier to get started, DeepStream ships withs several reference applications in both C/C++ and Python. These sample applications can be found in the [NVIDIA-AI-IOT](https://github.com/NVIDIA-AI-IOT/deepstream_reference_apps) GitHub page. For this lab, we'll be using Python. The other methods for development include: \n",
    "* Build application from source code\n",
    "* Build application from command line\n",
    "* Build application from a configuration file\n",
    "\n",
    "**Note**: Separate [Python bindings](https://docs.nvidia.com/metropolis/deepstream/python-api/index.html) are included in the installation of the latest DeepStream SDK to enable DeepStream metadata access. "
   ]
  },
  {
   "cell_type": "markdown",
   "id": "22d52a0f",
   "metadata": {},
   "source": [
    "## Learning Objectives ##\n",
    "In this notebook, you will learn how to build a DeepStream pipeline using Python, including: \n",
    "* Planning the Pipeline Architecture\n",
    "* Using Configuration File to Configure Deep Learning Inference\n",
    "* Handling Metadata\n",
    "* Measuring Pipeline Performance\n",
    "\n",
    "**Table of Contents**\n",
    "<br>\n",
    "This notebook covers the below sections:  \n",
    "1. [Planning the Video AI Application](#s1)\n",
    "    * [Preview Input Video](#s1.1)\n",
    "2. [Preparing the Deep Learning Model](#s2)\n",
    "    * [TrafficCamNet Object Detection Model](#s2.1)\n",
    "    * [Clustering](#s2.2)\n",
    "    * [Installing NGC CLI](#s2.3)\n",
    "3. [Building a Video AI Application - Part 1](#s3)\n",
    "    * [Pipeline Components](#s3.1)\n",
    "    * [Initializing GStreamer and Pipeline](#s3.2)\n",
    "    * [Creating Pipeline Elements](#s3.3)\n",
    "    * [Exercise #1 - Explore NvInfer Configuration File](#e1)\n",
    "    * [Linking Pipeline Elements](#s3.4)\n",
    "    * [Probe to Access Metadata](#s3.5)\n",
    "    * [Starting the Pipeline](#s3.6)\n",
    "    * [Analyzing Inference Results](#s3.7)\n",
    "4. [Performance Analysis](#s4)\n",
    "    * [Throughput with Modified Probe](#s4.1)\n",
    "    * [Latency with Debug Log](#s4.2)\n",
    "    * [GPU Utilization with NVIDIA System Management Interface](#s4.3)\n",
    "5. [Building a Video AI Application - Part 2](#s5)\n",
    "    * [Pipeline Components](#s5.1)\n",
    "    * [Initializing GStreamer and Pipeline](#s5.2)\n",
    "    * [Modifying Pipeline Elements](#s5.3)\n",
    "    * [Linking Pipeline Elements](#s5.4)\n",
    "    * [Modify Probe to Draw on Frames](#s5.5)\n",
    "    * [Starting the Pipeline](#s5.6)\n",
    "    * [Viewing Inference Results](#s5.7)\n",
    "* [Troubleshooting](#s6)"
   ]
  },
  {
   "cell_type": "markdown",
   "id": "1186ad57",
   "metadata": {},
   "source": [
    "<a name='s1'></a>\n",
    "## Planning the Video AI Application ##\n",
    "Building a video AI application begins by designing the project based on the use case. For this walk-through, we will build a simple DeepStream pipeline to accurately detect cars from a parking garage camera feed. This is the same pipeline as the sample application from the previous notebook. It includes several high-level steps: \n",
    "1. Read data from a video file\n",
    "2. Perform deep learning inference on each frame\n",
    "3. Perform post-processing with inference results\n",
    "4. Write data to a file\n",
    "\n",
    "<p><img src='images/steps.png' width=720></p>\n",
    "\n",
    "We've strategically broken the entire pipeline into two parts to help with learning. \n",
    "* In part 1, we will build a simple DeepStream pipeline that will consume video data and perform inference on each frame for the purpose of counting the number of objects passing through in the video. \n",
    "* In part 2, we will add the ability to draw bounding boxes and text labels, as well write the output to a file, to our DeepStream pipeline. "
   ]
  },
  {
   "cell_type": "markdown",
   "id": "0045b82e-6240-45f3-a4e0-cadc6b3d874f",
   "metadata": {},
   "source": [
    "<a name='s1.1'></a>\n",
    "### Preview Input Video ###\n",
    "We begin by using the `ffprobe` command line utility to understand the raw input video's format ([see documentation if needed](https://ffmpeg.org/ffprobe.html)). When using the `ffprobe` command, the `-i` option lets us read an input [URL](https://en.wikipedia.org/wiki/URL) and the `-hide_banner` option suppresses printing the banner to reduce the output. "
   ]
  },
  {
   "cell_type": "code",
   "execution_count": null,
   "id": "08bc3e7b-0f0e-4805-9d09-ef52b34dd47a",
   "metadata": {},
   "outputs": [],
   "source": [
    "# DO NOT CHANGE THIS CELL\n",
    "import os\n",
    "\n",
    "# Set the input video path to an environment variable\n",
    "os.environ['TARGET_VIDEO_PATH']='data/sample_30.h264'\n",
    "os.environ['TARGET_VIDEO_PATH_MP4']='sample_30.mp4'\n",
    "\n",
    "target_video_path=os.environ['TARGET_VIDEO_PATH']\n",
    "target_video_path_mp4=os.environ['TARGET_VIDEO_PATH_MP4']\n",
    "\n",
    "# Analyze video\n",
    "!ffprobe -i $TARGET_VIDEO_PATH \\\n",
    "         -hide_banner"
   ]
  },
  {
   "cell_type": "markdown",
   "id": "1e243477-e5e9-4cbe-8ab0-bd7cf9653c0d",
   "metadata": {},
   "source": [
    "In the next step, we convert the video file into a container file before playing it since the H.264 encoded video file can't be played directly in JupyterLab. The [FFmpeg](https://ffmpeg.org/) tool is a very fast video and audio converter with the general syntax: \n",
    "* `ffmpeg [global_options] {[input_file_options] -i input_url} ... {[output_file_options] output_url} ...` \n",
    "\n",
    "When using the `ffmpeg` command, the `-i` option lets us read an input URL, the `-loglevel quiet` option suppresses the logs to reduce the output, and the `-y` flag overwrites any existing output file with the same name. "
   ]
  },
  {
   "cell_type": "code",
   "execution_count": null,
   "id": "06263048-cf6d-4430-ad34-ca289109c721",
   "metadata": {},
   "outputs": [],
   "source": [
    "# DO NOT CHANGE THIS CELL\n",
    "from IPython.display import Video\n",
    "\n",
    "# Convert the H.264 encoded video file to MP4 container file - this will generate the sample_30.mp4 file\n",
    "!ffmpeg -i $TARGET_VIDEO_PATH $TARGET_VIDEO_PATH_MP4 \\\n",
    "        -y \\\n",
    "        -loglevel quiet\n",
    "\n",
    "# View the input video\n",
    "Video(target_video_path_mp4, width=720)"
   ]
  },
  {
   "cell_type": "markdown",
   "id": "5b981ee2",
   "metadata": {},
   "source": [
    "<p><img src='images/important.png' width=720></p>\n",
    "\n",
    "Please make note the **dimensions** of the video frames, **frame rate**, **codec**, **color model**, and **file format**. In this case, the file is compressed using the **H.264** codec. The video is made up of frames that are **882** pixels (width) by **692** pixels (height) using the **yuv420p** color encoding system at **30 FPS** (frames per second). "
   ]
  },
  {
   "cell_type": "markdown",
   "id": "57d94538-c039-40a9-81cb-e3695a6f06d6",
   "metadata": {},
   "source": [
    "<a name='s2'></a>\n",
    "## Preparing the Deep Learning Model ##\n",
    "For deep learning inference, we will use a pre-trained model that is available on [**N**VIDIA **G**PU **C**loud](https://ngc.nvidia.com/), the hub for GPU-optimized AI and high-performance computing (HPC) software. NGC offers pre-trained models for many AI tasks. We'll be using a purpose-built model from [NGC](https://catalog.ngc.nvidia.com/) called [TrafficCamNet](https://catalog.ngc.nvidia.com/orgs/nvidia/teams/tao/models/trafficcamnet). "
   ]
  },
  {
   "cell_type": "markdown",
   "id": "3f817c65-ffb4-4c1a-9666-f2ed91030069",
   "metadata": {
    "jp-MarkdownHeadingCollapsed": true,
    "tags": []
   },
   "source": [
    "<a name='s2.1'></a>\n",
    "### TrafficCamNet Object Detection Model ###\n",
    "The TrafficCamNet Object Detection model, according to its [model card](https://catalog.ngc.nvidia.com/orgs/nvidia/teams/tao/models/trafficcamnet), detects one or more physical objects from four categories (car, persons, road signs, and two-wheelers) _within an image_ and returns a box around each object, as well as a category label for each object. \n",
    "\n",
    "For example, given an input image/frame, the inference engine will generate the bounding box coordinates as well as the category labels: \n",
    "<p><img src='images/sample_inference.png' width=720></p>\n",
    "\n",
    "We can then _optionally_ perform post-processing and draw the bounding boxes and text labels on top of the original frame. \n",
    "<p><img src='images/sample_bounding_boxes.png' width=720></p>"
   ]
  },
  {
   "cell_type": "markdown",
   "id": "cc38cbb5-28fc-4722-8849-122cfdf873da",
   "metadata": {},
   "source": [
    "<a name='s2.2'></a>\n",
    "### Clustering ###\n",
    "For object detection models, raw tensor data generated from the inference plugin need to be post-processed by a parsing and clustering algorithm to create bounding boxes around detected object. The data would be difficult and noisy to use otherwise. There are powerful clustering algorithms available in DeepStream, but you can customize your parsing algorithm inside the DeepStream app with the availability of tensor data. The size and dimension of the tensor data, as well as the parsing and clustering algorithm needed to parse the data, are dependent on the type of AI models. If you want to be able to bring customized models or new post-processing techniques to DeepStream, you’ll find it extremely useful to learn how to interact with the metadata. \n",
    "<p><img src='images/no_clustering.png'></p>"
   ]
  },
  {
   "cell_type": "markdown",
   "id": "91a0d1b1-73f3-4121-ac97-7bbcfc901937",
   "metadata": {},
   "source": [
    "<a name='s2.3'></a>\n",
    "### Installing NGC CLI ###\n",
    "Pre-trained models can be downloaded from NGC using the [NGC CLI](https://ngc.nvidia.com/setup/installers/cli). We need to download and install the NGC CLI before using it. "
   ]
  },
  {
   "cell_type": "code",
   "execution_count": null,
   "id": "bdf7dc4d-33bc-45da-a634-b0c84a05bb14",
   "metadata": {
    "scrolled": true,
    "tags": []
   },
   "outputs": [],
   "source": [
    "# DO NOT CHANGE THIS CELL\n",
    "import os\n",
    "os.environ['NGC_DIR']='/dli/task/ngc_assets'\n",
    "\n",
    "# Download and install NGC CLI - this will create the ngc_assets folder\n",
    "%env CLI=ngccli_linux.zip\n",
    "!mkdir -p $NGC_DIR/ngccli\n",
    "!wget \"https://ngc.nvidia.com/downloads/$CLI\" -P $NGC_DIR/ngccli\n",
    "!unzip -o \\\n",
    "       -u \"$NGC_DIR/ngccli/$CLI\" \\\n",
    "       -d $NGC_DIR/ngccli/\n",
    "!rm $NGC_DIR/ngccli/*.zip\n",
    "os.environ[\"PATH\"]=\"{}/ngccli/ngc-cli:{}\".format(os.getenv(\"NGC_DIR\", \"\"), os.getenv(\"PATH\", \"\"))"
   ]
  },
  {
   "cell_type": "markdown",
   "id": "ebb90242-ce2e-4f2d-bc14-0ca3985e5e1a",
   "metadata": {},
   "source": [
    "To download a model from the registry, use the `ngc registry model download-version <org-name>/<model-name:version>` command and specify the model name as well as version. The model will be downloaded to a folder that corresponds to the model name in the current directory but can also be specified using the `-d` or `--dest` option. "
   ]
  },
  {
   "cell_type": "code",
   "execution_count": null,
   "id": "a01caf22-f640-456d-8a9b-4025c5aa0e09",
   "metadata": {},
   "outputs": [],
   "source": [
    "# DO NOT CHANGE THIS CELL\n",
    "!ngc registry model download-version nvidia/tao/trafficcamnet:pruned_v1.0 --dest $NGC_DIR"
   ]
  },
  {
   "cell_type": "markdown",
   "id": "3d81bfe8-7cca-4635-8c2c-cd6339ee6fe9",
   "metadata": {},
   "source": [
    "<p><img src=\"images/check.png\" width='720'></p>\n",
    "\n",
    "Did you get the below error message? This is likely due to a bad NGC CLI configuration. Please check the _NGC CLI Configuration_ section of the [introduction notebook](00_introduction.ipynb). "
   ]
  },
  {
   "cell_type": "raw",
   "id": "df0096e8-e68f-4c2e-b38a-cac6f8fdebe5",
   "metadata": {},
   "source": [
    "{\n",
    "    \"error\": \"Error: Invalid apikey\"\n",
    "}"
   ]
  },
  {
   "cell_type": "markdown",
   "id": "e35ac5e2-d417-4489-823d-b3326d2b55cd",
   "metadata": {},
   "source": [
    "<a name='s3'></a>\n",
    "## Building a Video AI Application - Part 1 ##\n",
    "In part 1, we will build a simple DeepStream pipeline that consumes video data and performs inference on each frame for the purpose of counting the number of cars passing through in the video. "
   ]
  },
  {
   "cell_type": "markdown",
   "id": "1d61478e-f6dc-4aeb-873a-50edac907bab",
   "metadata": {},
   "source": [
    "<a name='s3.1'></a>\n",
    "### Pipeline Components ###\n",
    "This is the pipeline architecture of the application. We've selected each plugin based on their functionality. \n",
    "<p><img src=\"images/deepstream_pipeline_pt1.png\" width='720'></p>\n",
    "\n",
    "* The [filesrc](https://gstreamer.freedesktop.org/documentation/coreelements/filesrc.html) plugin reads data from a local file. There are other plugins available for reading data from various types of sources like camera, RTSP streams, and disk. \n",
    "* The [h264parse](https://gstreamer.freedesktop.org/documentation/videoparsersbad/h264parse.html) plugin is used to parse the input elementary H.264 stream into frame-size bytes of data. \n",
    "* The [nvv4l2decoder](https://gist.github.com/nins-k/6f7377629000894deedc7f14d7ef64fe) plugin decodes the input data using the appropriate codec, which is H.264 in this case.\n",
    "* The [nvstreammux](https://docs.nvidia.com/metropolis/deepstream/dev-guide/text/DS_plugin_gst-nvstreammux.html) plugin is a required stream aggregator. This video aggregator helps in accepting `n` input streams and converts them into sequential batched frames. Even though our simple application only consumes one input stream, this plugin is required as `nvinfer` accepts _batched_ buffers with the `NvDsBatchMeta` structure already attached. \n",
    "    * This plugin takes `width`,  `height`, and `batch-size` as parameters. \n",
    "* The [nvinfer](https://docs.nvidia.com/metropolis/deepstream/dev-guide/text/DS_plugin_gst-nvinfer.html) plugin performs transformation (format conversion and scaling) on the input frame based on network requirements and passes the transformed data to the low-level library. This is the plugin that we will use to define the deep learning task(s) associated with our application. The low-level library pre-processes the transformed frames (performs normalization and mean subtraction) and produces final float RGB/BGR/GRAY planar data which are passed to the TensorRT engine for inferencing. The output type generated by the low-level library depends on the network type. We will configure the `nvinfer` plugin for our `TrafficCamNet` object detection model. It attaches the inference results such as _object class(s)_, _bounding box coordinates_, _etc._, to the metadata.\n",
    "    * **Note**: Behaviour of inference is set through the config file. You can use the files provided below as a template or start the text file from scratch. \n",
    "    <p><img src=\"images/nvinfer.png\" width='720'></p>\n",
    "* The [fakesink](https://gstreamer.freedesktop.org/documentation/coreelements/fakesink.html) plugin acts as the end of the pipeline where the data flow ends. \n",
    "    * There is a synchronization-against-the-clock mechanism in GStreamer. For local video file, it is recommended to set the `sync` property to `1` to get smooth video playback, vs. `0` for live-sources such as IP camera since they give frames at a static rate. \n",
    "\n",
    "*More information about the plugins can be found in the [DeepStream Plugin Guide](https://docs.nvidia.com/metropolis/deepstream/dev-guide/index.html#plugins-development-guide) and [GStreamer Plugin Guide](https://gstreamer.freedesktop.org/documentation/plugins_doc.html).*\n",
    "\n",
    "Additionally, we will add a **callback function** on the source pad of the `nvinfer` plugin to access the metadata in the application. The application can then use this metadata to solve the given problem (in this case counting the number of cars, persons, road signs, and two-wheelers)."
   ]
  },
  {
   "cell_type": "markdown",
   "id": "4e5e3254-4623-42b0-881f-cf8420bcdc1d",
   "metadata": {},
   "source": [
    "<a name='s3.2'></a>\n",
    "### Initializing GStreamer and Pipeline ###\n",
    "We initialize GStreamer with `Gst.init(list=None)` and instantiate a `Gst.Pipeline` object as `pipeline` to contain all the elements shown in the pipeline diagram. "
   ]
  },
  {
   "cell_type": "code",
   "execution_count": null,
   "id": "6c2654fb-a47d-4af4-9186-33c0cea9f6ea",
   "metadata": {},
   "outputs": [],
   "source": [
    "# DO NOT CHANGE THIS CELL\n",
    "# Import necessary GStreamer libraries and DeepStream python bindings\n",
    "import gi\n",
    "gi.require_version('Gst', '1.0')\n",
    "from gi.repository import GObject, Gst, GLib\n",
    "import pyds\n",
    "\n",
    "# Initialize GStreamer\n",
    "Gst.init(None)\n",
    "\n",
    "# Create Pipeline element that will form a connection of other elements\n",
    "pipeline=Gst.Pipeline()\n",
    "print('Created pipeline')"
   ]
  },
  {
   "cell_type": "markdown",
   "id": "034c185e-0f24-415e-9351-0d732525ecf3",
   "metadata": {},
   "source": [
    "<a name='s3.3'></a>\n",
    "### Creating Pipeline Elements ###\n",
    "We create each element in the pipeline using `Gst.ElementFactory.make(factoryname, name)` (see [documentation](https://lazka.github.io/pgi-docs/Gst-1.0/classes/ElementFactory.html#Gst.ElementFactory.make)). We can configure elements using `set_property(property_name, value)` (see [documentation](https://gstreamer.freedesktop.org/documentation/plugin-development/basics/args.html?gi-language=c)) with the required parameters as needed. In this step, we also add the elements to the pipeline with `Gst.Pipeline.add(element)`. "
   ]
  },
  {
   "cell_type": "code",
   "execution_count": null,
   "id": "b23b2d80-e016-44ae-95aa-dc5739d6c710",
   "metadata": {},
   "outputs": [],
   "source": [
    "# DO NOT CHANGE THIS CELL\n",
    "# Create Source element for reading from a file and set the location property\n",
    "source=Gst.ElementFactory.make(\"filesrc\", \"file-source\")\n",
    "source.set_property('location', target_video_path)\n",
    "\n",
    "# Create H264 Parser with h264parse as the input file is an elementary h264 stream\n",
    "h264parser=Gst.ElementFactory.make(\"h264parse\", \"h264-parser\")\n",
    "\n",
    "# Create Decoder with nvv4l2decoder for accelerated decoding on GPU\n",
    "decoder=Gst.ElementFactory.make(\"nvv4l2decoder\", \"nvv4l2-decoder\")\n",
    "\n",
    "# Create Streamux with nvstreammux to form batches for one or more sources and set properties\n",
    "streammux=Gst.ElementFactory.make(\"nvstreammux\", \"stream-muxer\")\n",
    "streammux.set_property('width', 888) \n",
    "streammux.set_property('height', 696) \n",
    "streammux.set_property('batch-size', 1)\n",
    "\n",
    "# Create Primary GStreamer Inference Element with nvinfer to run inference on the decoder's output after batching\n",
    "pgie=Gst.ElementFactory.make(\"nvinfer\", \"primary-inference\")\n",
    "\n",
    "# Create Sink with fakesink as the end point of the pipeline\n",
    "fakesink=Gst.ElementFactory.make('fakesink', 'fakesink')\n",
    "fakesink.set_property('sync', 1)\n",
    "print('Created elements')"
   ]
  },
  {
   "cell_type": "markdown",
   "id": "19ad764d-1b56-4a7e-8faf-3563fc3d9218",
   "metadata": {},
   "source": [
    "<p><img src='images/important.png' width=720></p>\n",
    "\n",
    "Even though the source videos are **882** x **692**, the `nvstreammux` plugin wants to set the output dimensions to the nearest multiple of **8**, which is why we forced it to be **888** by **696**. This would otherwise be done automatically for us. The extra pixels will be padded black. We set the `batch-size` to be **1** frame per batch. It is _recommended_ that we set the `batch-size` to be equal to the number of input sources. "
   ]
  },
  {
   "cell_type": "code",
   "execution_count": null,
   "id": "b7489ceb-9fa2-4ccd-a85a-b52299d2c974",
   "metadata": {},
   "outputs": [],
   "source": [
    "# DO NOT CHANGE THIS CELL\n",
    "# Add elements to pipeline\n",
    "pipeline.add(source)\n",
    "pipeline.add(h264parser)\n",
    "pipeline.add(decoder)\n",
    "pipeline.add(streammux)\n",
    "pipeline.add(pgie)\n",
    "pipeline.add(fakesink)\n",
    "print('Added elements to pipeline')"
   ]
  },
  {
   "cell_type": "markdown",
   "id": "211cd5c3-3c58-4dc0-a1d9-e1629b2437f4",
   "metadata": {},
   "source": [
    "<a name='e1'></a>\n",
    "#### Exercise #1 - Explore Gst-nvinfer Configuration File ####\n",
    "The `nvinfer` plugin needs to be configured through a [config file](./spec_files/pgie_config_trafficcamnet_03.txt)(`./spec_files/pgie_config_trafficcamnet_03.txt`), which has been completed for you. You can use this file as a _template_ or _start from scratch_. Please take a look to see how it's structured. "
   ]
  },
  {
   "cell_type": "markdown",
   "id": "85cbd711-8abf-4cb8-9c3b-85e7f3813e22",
   "metadata": {},
   "source": [
    "These properties are important to understand: \n",
    "* Properties related to models downloaded from NGC or trained with the TAO Toolkit: \n",
    "    * `tlt-encoded-model` - pathname of the TAO Toolkit encoded model\n",
    "    * `tlt-model-key` - model load key for the TAO Toolkit encoded model\n",
    "    * `labelfile-path` - pathname of a text file containing the labels for the model. The labels must be new line delimited for object detection models\n",
    "    * `uff-input-blob-name` - name of the input blob in the UFF file\n",
    "    * `output-blob-names` - array of output layer names\n",
    "    * `input-dims` - dimensions of the model input as [channel; height; width; input-order] where input-order=0 for NCHW\n",
    "    * `net-scale-factor` - pixel normalization factor _(default=1)_\n",
    "\n",
    "* Recommended properties: \n",
    "    * `batch-size` - number of frames to be inferred together in a batch _(default=1)_\n",
    "\n",
    "* Mandatory properties for detectors: \n",
    "    * `num-detected-classes` - number of classes detected by the network\n",
    "\n",
    "* Optional properties for detectors: \n",
    "    * `cluster-mode` - clustering algorithm to use _(default=0 i.e. Group Rectangles)_. Refer to the section on [clustering algorithms supported by nvinfer](https://docs.nvidia.com/metropolis/deepstream/dev-guide/text/DS_plugin_gst-nvinfer.html#cluster-mode-info) in the documentation for more information. \n",
    "    * `nms-iou-thresholds`: maximum IOU score between two proposals after which the proposal with the lower confidence will be rejected\n",
    "    * `pre-cluster-thresholds`: detection threshold to be applied prior to clustering\n",
    "    * `topk`: keep only top K objects with highest detection scores\n",
    "\n",
    "* Other optional properties: \n",
    "    * `network-mode` - data format to be used for inference _(0=FP32, 1=INT8, 2=FP16 mode | default=0 i.e. FP32)_\n",
    "    * `process-mode` - mode _(primary or secondary)_ in which the plugin is to operate on _(default=1 i.e. primary)_\n",
    "    * `model-color-format` - color format required by the model _(default=0 i.e. RGB)_\n",
    "    * `interval` - number of consecutive batches to be skipped for inference _(primary mode only | default=0)_\n",
    "    * `gie-unique-id` - unique ID to be assigned to the GIE to enable the application and other elements to identify detected bounding boxes and labels _(default=0)_\n",
    "    * `gpu-id` - device ID of GPU to use for pre-processing/inference _(dGPU only)_"
   ]
  },
  {
   "cell_type": "markdown",
   "id": "80afceec-2b3b-4cc9-a029-c02d3d6ccc47",
   "metadata": {},
   "source": [
    "You can find most of the information needed on the [model card](https://catalog.ngc.nvidia.com/orgs/nvidia/teams/tao/models/trafficcamnet): \n",
    "\n",
    "<p><img src='images/encryption_key.png' width=480></p>\n",
    "<p><img src='images/model_card.png' width=720></p>\n",
    "\n",
    "The blob names will be based on the deep learning model. For this pre-trained model from NGC, they can be found in the accompanied [text file](./ngc_assets/trafficcamnet_vpruned_v1.0/trafficnet_int8.txt) (`./ngc_assets/trafficcamnet_vpruned_v1.0/trafficnet_int8.txt`). \n",
    "\n",
    "<p><img src='images/blob_names.png' width=360></p>"
   ]
  },
  {
   "cell_type": "code",
   "execution_count": null,
   "id": "7c957a58-e79b-428c-95e7-ba6284e87c5a",
   "metadata": {
    "tags": []
   },
   "outputs": [],
   "source": [
    "# DO NOT CHANGE THIS CELL\n",
    "!cat spec_files/pgie_config_trafficcamnet_03.txt"
   ]
  },
  {
   "cell_type": "markdown",
   "id": "0bfa6796-4ab4-40cd-bb40-0e7a18348005",
   "metadata": {},
   "source": [
    "**Note**: The values in the config file can be overridden by values set through `GObject` properties. Another important thing to remember is that the properties recommended are specific to a primary detector. You may need to configure other properties for secondary and/or classifier. \n",
    "\n",
    "After the configuration file has been created, we set the configuration file path of the `nvinfer` plugin using `set_property(property_name, value)`. "
   ]
  },
  {
   "cell_type": "code",
   "execution_count": null,
   "id": "4e827dc8-0cbb-4b13-bbd4-711715e19316",
   "metadata": {},
   "outputs": [],
   "source": [
    "# DO NOT CHANGE THIS CELL\n",
    "# Set the configuration-file-path property for nvinfer\n",
    "pgie.set_property('config-file-path', '/dli/task/spec_files/pgie_config_trafficcamnet_03.txt')"
   ]
  },
  {
   "cell_type": "markdown",
   "id": "8e880fc6-c89f-491b-8e00-227f4236e0e9",
   "metadata": {},
   "source": [
    "<a name='s3.4'></a>\n",
    "### Linking Pipeline Elements ###\n",
    "Finally, we link all these elements in the order that data flow through the pipeline with `Gst.Element.link(Gst.Element)`.\n",
    "<p><img src='images/important.png' width=720></p>\n",
    "\n",
    "When connecting a source to `nvstreammux` (the muxer), the input's source pad, obtained from `get_static_pad(name='src')`, must be manually linked to a newly requested sink pad from the muxer using `get_request_pad(name)` and the pad template `sink_%u`. This enables the ability to have multiple sources feeding into the `nvstreammux` plugin. "
   ]
  },
  {
   "cell_type": "code",
   "execution_count": null,
   "id": "c6c40560-108c-4c75-bd85-cd21eec09d54",
   "metadata": {},
   "outputs": [],
   "source": [
    "# DO NOT CHANGE THIS CELL\n",
    "# Link elements in the pipeline\n",
    "source.link(h264parser)\n",
    "h264parser.link(decoder)\n",
    "\n",
    "# Link decoder source pad to streammux sink pad\n",
    "decoder_srcpad=decoder.get_static_pad(\"src\")    \n",
    "streammux_sinkpad=streammux.get_request_pad(\"sink_0\")\n",
    "decoder_srcpad.link(streammux_sinkpad)\n",
    "\n",
    "# Link the rest of the elements in the pipeline\n",
    "streammux.link(pgie)\n",
    "pgie.link(fakesink)\n",
    "print('Linked elements in pipeline')"
   ]
  },
  {
   "cell_type": "markdown",
   "id": "14fb971e-92fd-49d4-919e-22758e956a9b",
   "metadata": {
    "tags": []
   },
   "source": [
    "<a name='s3.5'></a>\n",
    "### Probe to Metadata Access ###\n",
    "Recall that we use probes to access metadata, which are callback functions that interact with the pads of elements. To access the metadata, we can use the DeepStream Python bindings, `pyds`. DeepStream uses an extensible standard structure for metadata. The basic metadata structure `NvDsBatchMeta` starts with batch-level metadata, created inside the `Gst-nvstreammux` plugin (see below). The object-level metadata we are looking for is accessible through `NvDsBatchMeta` > `NvDsFrameMeta` > `NvDsObjectMeta`. Some metadata instances are stored in `GList` form, which requires the data to be casted to the appropriate structure using `pyds.NvDsFrameMeta.cast(data)` or  `pyds.NvDsObjectMeta.cast(data)`. The `NvDsObjectMeta` contains the inference results from the deep learning neural networks, depending on what the configurations are. \n",
    "<p><img src='images/DS_plugin_metadata.png' width=480></p>\n",
    "\n",
    "We write the user-defined callback function `pgie_source_pad_buffer_probe`. Inside the function, we first get the batch metadata from the buffer with `pyds.gst_buffer_get_nvds_batch_meta(buffer)`. From there, we can iterate through all the metadata types that are attached to the buffer. The DeepStream plugins attach metadata of type `NVDS_META_FRAME_INFO` to the buffer. To achieve our goal, we access the object metadata to count the number of objects in each frame and print the bounding box coordindates. In this example we are using a 4-class-detectors (vehicle, person, two-wheeler, and road sign). The return value of the probe function is programmed to `Gst.PadProbeReturn.OK`, which is the normal probe return value and leaves the probe in place. There are other options for the [return value](https://lazka.github.io/pgi-docs/Gst-1.0/enums.html#Gst.PadProbeReturn) that can be considered for more complex cases. "
   ]
  },
  {
   "cell_type": "code",
   "execution_count": null,
   "id": "3314e094-daad-4913-b145-69ec33c4f796",
   "metadata": {},
   "outputs": [],
   "source": [
    "# DO NOT CHANGE THIS CELL\n",
    "# Declare list to hold count data\n",
    "obj_counts=[]\n",
    "\n",
    "# Define the Probe Function\n",
    "def pgie_src_pad_buffer_probe(pad, info):\n",
    "    gst_buffer=info.get_buffer()\n",
    "\n",
    "    # Retrieve batch metadata from the gst_buffer\n",
    "    # Note that pyds.gst_buffer_get_nvds_batch_meta() expects the\n",
    "    # C address of gst_buffer as input, which is obtained with hash(gst_buffer)\n",
    "    batch_meta=pyds.gst_buffer_get_nvds_batch_meta(hash(gst_buffer))\n",
    "    l_frame=batch_meta.frame_meta_list\n",
    "    \n",
    "    # Iterate through each frame in the batch metadata until the end\n",
    "    while l_frame is not None:\n",
    "        try:\n",
    "            frame_meta=pyds.NvDsFrameMeta.cast(l_frame.data)\n",
    "        except StopIteration:\n",
    "            break\n",
    "\n",
    "        frame_num=frame_meta.frame_num\n",
    "        num_obj=frame_meta.num_obj_meta\n",
    "        l_obj=frame_meta.obj_meta_list\n",
    "        \n",
    "        print(\"Frame Number={} Number of Objects={}\".format(frame_num, num_obj))\n",
    "        \n",
    "        # Append number of objects a list \n",
    "        obj_counts.append(num_obj)\n",
    "        \n",
    "        # Iterate through each object in the frame metadata until the end\n",
    "        while l_obj is not None:\n",
    "            try:\n",
    "                obj_meta=pyds.NvDsObjectMeta.cast(l_obj.data)\n",
    "                print('\\t Object: {} - Top: {}, Left: {}, Width: {}, Height: {}'.format(obj_meta.obj_label, \\\n",
    "                                                                                        round(obj_meta.rect_params.top), \\\n",
    "                                                                                        round(obj_meta.rect_params.left), \\\n",
    "                                                                                        round(obj_meta.rect_params.width), \\\n",
    "                                                                                        round(obj_meta.rect_params.height)))\n",
    "            except StopIteration:\n",
    "                break\n",
    "            \n",
    "            try: \n",
    "                l_obj=l_obj.next\n",
    "            except StopIteration:\n",
    "                break\n",
    "        \n",
    "        try:\n",
    "            l_frame=l_frame.next\n",
    "        except StopIteration:\n",
    "            break\n",
    "    return Gst.PadProbeReturn.OK"
   ]
  },
  {
   "cell_type": "markdown",
   "id": "948c1c75-93f4-4d70-98b4-d7c3127dce09",
   "metadata": {},
   "source": [
    "With the pipeline defined and the elements linked, we add the callback function on the source pad of the `nvinfer` plugin using `Gst.Pad.add_probe(mask, callback)`. While attached, the probe notifies when there are data passing on a pad. We can use `GST_PAD_PROBE_TYPE_BUFFER` or `GST_PAD_PROBE_TYPE_BUFFER_LIST` for `mask` when creating the probe. We designed the callback function to work with a single buffer so we're using `Gst.PadProbeType.BUFFER`. "
   ]
  },
  {
   "cell_type": "code",
   "execution_count": null,
   "id": "7521d360-7cf5-46e8-b96c-b7a4d4fa129b",
   "metadata": {},
   "outputs": [],
   "source": [
    "# DO NOT CHANGE THIS CELL\n",
    "# Add probe to inference plugin's source\n",
    "pgie_src_pad=pgie.get_static_pad('src')\n",
    "probe_id=pgie_src_pad.add_probe(Gst.PadProbeType.BUFFER, pgie_src_pad_buffer_probe)\n",
    "print('Attached probe')"
   ]
  },
  {
   "cell_type": "markdown",
   "id": "dc2a08f7-f979-4947-846c-eb14ca93be8b",
   "metadata": {},
   "source": [
    "<a name='s3.6'></a>\n",
    "### Starting the Pipeline ###\n",
    "The pipeline has a bus that we will use to monitor messages. We run a GLib/Gtk+ `MainLoop` (or iterate the default GLib main context regularly) and attach a watch/message handler to the bus with `Gst.Bus.add_signal_watch()`. This way the `GLib.Mainloop` will check the bus for new messages and notify. The message handler is also achieved through a callback function, which we define as `bus_call`. This handler will be called whenever the pipeline emits a message to the bus. The return value of the callback function should be `True` to keep it attached to the bus. Since this callback function for checking messages to the bus is used by many of the DeepStream applications, we refactor it into a [Python script](common/bus_call.py) (`./common/bus_call.py`) for ease of use. When we use `inpsect.getsource(object)` to look at the definition of the function, we find that it's a simple procedure that checks for the message type and handles them accordingly. With the message handler in place, we put the pipeline in the `PLAYING` state and run the `MainLoop`. Finally, when the pipeline is finished, we put the pipeline into the `NULL` state to clean up."
   ]
  },
  {
   "cell_type": "code",
   "execution_count": null,
   "id": "04379679-09f0-41f3-a0bd-29b7e9909c82",
   "metadata": {},
   "outputs": [],
   "source": [
    "# DO NOT CHANGE THIS CELL\n",
    "from common.bus_call import bus_call\n",
    "\n",
    "# Inspect the definition for bus_call\n",
    "from inspect import getsource\n",
    "print(getsource(bus_call))"
   ]
  },
  {
   "cell_type": "code",
   "execution_count": null,
   "id": "bd7c48a7-751a-4120-b460-3bb143c4513b",
   "metadata": {},
   "outputs": [],
   "source": [
    "# DO NOT CHANGE THIS CELL\n",
    "# Create an event loop\n",
    "loop=GLib.MainLoop()\n",
    "\n",
    "# Feed GStreamer bus messages to loop\n",
    "bus=pipeline.get_bus()\n",
    "bus.add_signal_watch()\n",
    "bus.connect(\"message\", bus_call, loop)\n",
    "print('Added bus message handler')"
   ]
  },
  {
   "cell_type": "code",
   "execution_count": null,
   "id": "13c57368-2ab4-4fc1-bb4b-8732a997d96b",
   "metadata": {
    "scrolled": true,
    "tags": []
   },
   "outputs": [],
   "source": [
    "# DO NOT CHANGE THIS CELL\n",
    "# Start play back and listen to events\n",
    "print(\"Starting pipeline\")\n",
    "pipeline.set_state(Gst.State.PLAYING)\n",
    "try:\n",
    "    loop.run()\n",
    "except:\n",
    "    pass\n",
    "\n",
    "# Cleaning up as the pipeline comes to an end\n",
    "pipeline.set_state(Gst.State.NULL)"
   ]
  },
  {
   "cell_type": "markdown",
   "id": "13461c94-ea0d-43c5-9ce1-f1819c29ed48",
   "metadata": {},
   "source": [
    "<a name='s3.7'></a>\n",
    "### Analyzing Inference Results ###\n",
    "After the DeepStream pipeline completes the video processing, we summarize the inference results. "
   ]
  },
  {
   "cell_type": "code",
   "execution_count": null,
   "id": "7b5ce7c0-083c-4041-a815-5e4fe7dce503",
   "metadata": {},
   "outputs": [],
   "source": [
    "# DO NOT CHANGE THIS CELL\n",
    "import pandas as pd\n",
    "\n",
    "# Export data to a Pandas Series\n",
    "obj_count_df=pd.Series(obj_counts, name='Object Count')\n",
    "obj_count_df.index.name='Frame Number'\n",
    "\n",
    "# Plot the Series\n",
    "obj_count_df.plot(\n",
    "    linestyle='none', \n",
    "    marker='.', \n",
    "    figsize=(15, 5), \n",
    "    ylim=[-.1, 3.1], \n",
    "    title='Object Count Over Time'\n",
    ")"
   ]
  },
  {
   "cell_type": "markdown",
   "id": "6751bc01-d8da-443f-94d2-f05eeb941620",
   "metadata": {},
   "source": [
    "<p><img src='images/check.png' width=720></p>\n",
    "Congratulations! You've built your first DeepStream pipeline. Before we add more functionality to this pipeline, let's look at how to evaluate its performance. "
   ]
  },
  {
   "cell_type": "markdown",
   "id": "d12b4c87-d9e2-4ed0-8d4d-7c2b1a25fdcf",
   "metadata": {},
   "source": [
    "<a name='s4'></a>\n",
    "## Performance Analysis ##\n",
    "In this section we will look at various metrics used to evaluate the performance of a DeepStream pipeline: \n",
    "* Throughput\n",
    "* Latency\n",
    "* Hardware Utilization"
   ]
  },
  {
   "cell_type": "markdown",
   "id": "c95e5115-a46c-4c02-a3b8-f18719186c9e",
   "metadata": {},
   "source": [
    "We refactor the code created so far into a [Python script](sample_apps/app_3_pt_1.py) (`./sample_apps/app_3_pt_1.py`) for ease of execution. This script can also be imported as a module to build the simple DeepStream pipeline using `building_simple_pipeline(input_source)`. More information can be found in the docstring. "
   ]
  },
  {
   "cell_type": "code",
   "execution_count": null,
   "id": "6495e4e5-ffdd-401b-9a94-f972109b849e",
   "metadata": {},
   "outputs": [],
   "source": [
    "# DO NOT CHANGE THIS CELL\n",
    "# Import app_3_pt_1.py from sample_apps directory\n",
    "import sample_apps.app_3_pt_1\n",
    "\n",
    "# Print the docstring \n",
    "print(sample_apps.app_3_pt_1.__doc__)"
   ]
  },
  {
   "cell_type": "code",
   "execution_count": null,
   "id": "a9b78c88-798d-45b1-91ea-c1a18dc302df",
   "metadata": {},
   "outputs": [],
   "source": [
    "# DO NOT CHANGE THIS CELL\n",
    "from sample_apps.app_3_pt_1 import build_simple_pipeline\n",
    "\n",
    "# Print the docstring\n",
    "print(build_simple_pipeline.__doc__)"
   ]
  },
  {
   "cell_type": "code",
   "execution_count": null,
   "id": "63a82d21-c5ee-46e5-8a4b-6411aa06fb5d",
   "metadata": {
    "scrolled": true,
    "tags": []
   },
   "outputs": [],
   "source": [
    "# DO NOT CHANGE THIS CELL\n",
    "# Test run the Python script\n",
    "!python sample_apps/app_3_pt_1.py data/sample_30.h264"
   ]
  },
  {
   "cell_type": "markdown",
   "id": "aecf65be-d492-4c83-a68c-0b3b0176de2e",
   "metadata": {},
   "source": [
    "<a name='s4.1'></a>\n",
    "### Throughput with Modified Probe ###\n",
    "**Throughput** is the amount of data that are processed in a specific amount of time. It can be interpreted as the average rate of successful data transmission in stream processing. The throughput for a DeepStream application should meet the requirements of the input video stream. We can measure throughput with a probe to get a sense of the dataflow and express it as frames per second (FPS). Below we create another probe function to measure the time it takes for frames to pass through the `nvinfer` plugin. By taking the [reciprocal](https://en.wikipedia.org/wiki/Reciprocal) of the time, we can approximate the frame rate. We're going to print out our frame rate for a single video stream, but we could expand this to generate metrics such as minimum, maximum, and average frame throughput at a granular level for each video stream. "
   ]
  },
  {
   "cell_type": "code",
   "execution_count": null,
   "id": "0eb1624e-74a1-457f-a807-61fd2fa8087f",
   "metadata": {},
   "outputs": [],
   "source": [
    "# DO NOT CHANGE THIS CELL\n",
    "import time\n",
    "\n",
    "frame_rates=[]\n",
    "\n",
    "# Define the Probe Function\n",
    "def pgie_src_pad_buffer_probe_fps(pad, info):\n",
    "    global start\n",
    "    frame_number=0\n",
    "    gst_buffer=info.get_buffer()\n",
    "    \n",
    "    batch_meta=pyds.gst_buffer_get_nvds_batch_meta(hash(gst_buffer))\n",
    "    l_frame=batch_meta.frame_meta_list\n",
    "    \n",
    "    # Iterate through each frame in the batch metadata until the end\n",
    "    while l_frame is not None:\n",
    "        now=time.time()\n",
    "        try:\n",
    "            frame_meta=pyds.NvDsFrameMeta.cast(l_frame.data)\n",
    "        except StopIteration:\n",
    "            break\n",
    "        frame_number=frame_meta.frame_num\n",
    "        \n",
    "        # Take the reciprocal of the time difference as frame rate\n",
    "        frame_rate=round(1/(now-start), 2)\n",
    "        print('FPS: {} @ Frame {}.'.format(frame_rate, frame_number))\n",
    "        \n",
    "        # Add frame rate to frame_rates list\n",
    "        frame_rates.append(frame_rate)\n",
    "        \n",
    "        try:\n",
    "            l_frame=l_frame.next\n",
    "        except StopIteration:\n",
    "            break\n",
    "        start=now\n",
    "    return Gst.PadProbeReturn.OK"
   ]
  },
  {
   "cell_type": "markdown",
   "id": "451cef87-5475-4a25-be12-c77538cf5ede",
   "metadata": {},
   "source": [
    "We use `build_simple_pipeline(input_source)` from the [app_3_pt_1.py](sample_apps/app_3_pt_1.py) script to build the simple pipeline and attach the new probe to the source pad of the `nvinfer` (primary-inference) plugin. We can use `Gst.Pipeline.get_by_name(name)` to reference an element within the existing pipeline. Afterwards we can start playback with `GLib.MainLoop` as we had done before. "
   ]
  },
  {
   "cell_type": "code",
   "execution_count": null,
   "id": "3e7a1ba1-cba3-45dd-9851-959628d907c7",
   "metadata": {},
   "outputs": [],
   "source": [
    "# DO NOT CHANGE THIS CELL\n",
    "# Standard GStreamer initialization\n",
    "Gst.init(None)\n",
    "\n",
    "# Build pipeline\n",
    "pipeline=build_simple_pipeline('data/sample_30.h264')\n",
    "print('Successfully created a {} object'.format(type(pipeline)))\n",
    "\n",
    "# Get the nvinfer plugin by name\n",
    "pgie=pipeline.get_by_name('primary-inference')\n",
    "\n",
    "# Add probe to inference plugin's source\n",
    "pgie_src_pad=pgie.get_static_pad('src')\n",
    "pgie_src_pad.add_probe(Gst.PadProbeType.BUFFER, pgie_src_pad_buffer_probe_fps)\n",
    "print('Attached Probe')"
   ]
  },
  {
   "cell_type": "code",
   "execution_count": null,
   "id": "c37e33f3-c87a-4115-a0f7-e816a5b8c789",
   "metadata": {},
   "outputs": [],
   "source": [
    "# DO NOT CHANGE THIS CELL\n",
    "# Create MainLoop and add a signal watch\n",
    "loop=GLib.MainLoop()\n",
    "bus=pipeline.get_bus()\n",
    "bus.add_signal_watch()\n",
    "bus.connect(\"message\", bus_call, loop)\n",
    "print('Added bus message handler')"
   ]
  },
  {
   "cell_type": "code",
   "execution_count": null,
   "id": "61c3e091-e8ca-4fd4-a24e-00db23658def",
   "metadata": {
    "scrolled": true,
    "tags": []
   },
   "outputs": [],
   "source": [
    "# DO NOT CHANGE THIS CELL\n",
    "# Start Pipeline\n",
    "print(\"Starting pipeline\")\n",
    "pipeline.set_state(Gst.State.PLAYING)\n",
    "start=time.time()\n",
    "try:\n",
    "    loop.run()\n",
    "except:\n",
    "    pass\n",
    "\n",
    "# Cleaning up as the pipeline comes to an end\n",
    "pipeline.set_state(Gst.State.NULL)"
   ]
  },
  {
   "cell_type": "markdown",
   "id": "ae5b23e7-b36a-4f62-b728-70c270e8dd28",
   "metadata": {},
   "source": [
    "After the DeepStream pipeline completes video processing, we summarize the throughput results. "
   ]
  },
  {
   "cell_type": "code",
   "execution_count": null,
   "id": "53c21496-67c0-4208-94bb-25934ca3bf20",
   "metadata": {},
   "outputs": [],
   "source": [
    "# DO NOT CHANGE THIS CELL\n",
    "# Export data to a Pandas Series\n",
    "frame_rates_df=pd.Series(frame_rates, name='Frame Rate')\n",
    "frame_rates_df.index.name='Frame Number'\n",
    "\n",
    "# Plot the Series\n",
    "frame_rates_df.plot(\n",
    "    linestyle='none', \n",
    "    marker='.', \n",
    "    figsize=(15, 5), \n",
    "    ylim=[-.1, 50], \n",
    "    title='Frame Rate Over Time')"
   ]
  },
  {
   "cell_type": "markdown",
   "id": "6f02687d-5eae-4b74-a2a2-c7bbcdf273b0",
   "metadata": {},
   "source": [
    "<p><img src='images/check.png' width=720></p>\n",
    "Based on the analysis, you can see that we are operating with a high frame rate that matches the required input video stream at 30 FPS (frames per second). Since the throughput can vary, analyzing the minimum, maximum, and average frame rates for your applications is highly recommended to understand any potentially unexpected performance issues."
   ]
  },
  {
   "cell_type": "markdown",
   "id": "a4111c18-033a-4482-b4aa-ec68897aa81a",
   "metadata": {
    "tags": []
   },
   "source": [
    "<a name='s4.2'></a>\n",
    "### Latency with Debug Log ###\n",
    "**Latency** is the time difference between when data enter one element and into the next in the pipeline. In general, low latency is desirable and particularly important for real-time pipelines that are time-critical. In the context of video analytics, latency is the amount of time it takes for the input streams to be processed. Latency in a DeepStream pipeline can be measured using GStreamer debugging capabilities. The debug log is very useful but can be verbose. We specify the amount of desired output based on the below table (take from [GStreamer documentation](https://gstreamer.freedesktop.org/documentation/tutorials/basic/debugging-tools.html)). By setting the `GST-DEBUG` environment variable to `GST_SCHEDULING:7` when running the DeepStream pipeline, we get a `trace` log that contains details on when the buffers are processed. GStreamer allows for custom debugging information handlers, but the default one is very useful. When using the default handler, the content of each line in the debug output looks like the below and includes various information. "
   ]
  },
  {
   "cell_type": "raw",
   "id": "671efae0-28c9-4018-8636-13740153a92f",
   "metadata": {},
   "source": [
    "| # | Name    | Description                                                    |\n",
    "|---|---------|----------------------------------------------------------------|\n",
    "| 0 | none    | No debug information is output.                                |\n",
    "| 1 | ERROR   | Logs all fatal errors. These are errors that do not allow the  |\n",
    "|   |         | core or elements to perform the requested action. The          |\n",
    "|   |         | application can still recover if programmed to handle the      |\n",
    "|   |         | conditions that triggered the error.                           |\n",
    "| 2 | WARNING | Logs all warnings. Typically these are non-fatal, but          |\n",
    "|   |         | user-visible problems are expected to happen.                  |\n",
    "| 3 | FIXME   | Logs all \"fixme\" messages. Those typically that a codepath that|\n",
    "|   |         | is known to be incomplete has been triggered. It may work in   |\n",
    "|   |         | most cases, but may cause problems in specific instances.      |\n",
    "| 4 | INFO    | Logs all informational messages. These are typically used for  |\n",
    "|   |         | events in the system that only happen once, or are important   |\n",
    "|   |         | and rare enough to be logged at this level.                    |\n",
    "| 5 | DEBUG   | Logs all debug messages. These are general debug messages for  |\n",
    "|   |         | events that happen only a limited number of times during an    |\n",
    "|   |         | object's lifetime; these include setup, teardown, change of    |\n",
    "|   |         | parameters, etc.                                               |\n",
    "| 6 | LOG     | Logs all log messages. These are messages for events that      |\n",
    "|   |         | happen repeatedly during an object's lifetime; these include   |\n",
    "|   |         | streaming and steady-state conditions. This is used for log    |\n",
    "|   |         | messages that happen on every buffer in an element for example.|\n",
    "| 7 | TRACE   | Logs all trace messages. Those are message that happen very    |\n",
    "|   |         | very often. This is for example is each time the reference     |\n",
    "|   |         | count of a GstMiniObject, such as a GstBuffer or GstEvent, is  |\n",
    "|   |         | modified.                                                      |\n",
    "| 9 | MEMDUMP | Logs all memory dump messages. This is the heaviest logging and|\n",
    "|   |         | may include dumping the content of blocks of memory.           |\n",
    "+------------------------------------------------------------------------------+"
   ]
  },
  {
   "cell_type": "raw",
   "id": "17caf78d-6300-41b9-9a96-4fbd829e96b5",
   "metadata": {},
   "source": [
    "0:00:00.868050000  1592   09F62420 WARN                 filesrc gstfilesrc.c:1044:gst_file_src_start:<filesrc0> error: No such file \"non-existing-file.webm\""
   ]
  },
  {
   "cell_type": "raw",
   "id": "c39b5d94-7bbd-42bb-aee7-67fd4fcb1e17",
   "metadata": {},
   "source": [
    "| Example          | Explained                                                 |\n",
    "|------------------|-----------------------------------------------------------|\n",
    "|0:00:00.868050000 | Time stamp in HH:MM:SS.sssssssss format since the start of|\n",
    "|                  | the program.                                              |\n",
    "|1592              | Process ID from which the message was issued. Useful when |\n",
    "|                  | your problem involves multiple processes.                 |\n",
    "|09F62420          | Thread ID from which the message was issued. Useful when  |\n",
    "|                  | your problem involves multiple threads.                   |\n",
    "|WARN              | Debug level of the message.                               |\n",
    "|filesrc           | Debug Category of the message.                            |\n",
    "|gstfilesrc.c:1044 | Source file and line in the GStreamer source code where   |\n",
    "|                  | this message was issued.                                  |\n",
    "|gst_file_src_start| Function that issued the message.                         |\n",
    "|<filesrc0>        | Name of the object that issued the message. It can be an  |\n",
    "|                  | element, a pad, or something else. Useful when you have   |\n",
    "|                  | multiple elements of the same kind and need to distinguish|\n",
    "|                  | among them. Naming your elements with the name property   |\n",
    "|                  | makes this debug output more readable but GStreamer       |\n",
    "|                  | assigns each new element a unique name by default.        |\n",
    "| error: No such   |                                                           |\n",
    "| file ....        | The actual message.                                       |\n",
    "+------------------------------------------------------------------------------+"
   ]
  },
  {
   "cell_type": "markdown",
   "id": "9a23039f-837a-4018-8f53-96a8731976b0",
   "metadata": {},
   "source": [
    "In the next step, we run the pipeline using [app_3_pt_1.py](sample_apps/app_3_pt_1.py) and preview the first few lines of the output [trace.log](logs/trace.log) file. In order to make the log file useful, we parse the text and export the data into a dataframe. For demonstration, we have included a simple script to accomplish this. "
   ]
  },
  {
   "cell_type": "code",
   "execution_count": null,
   "id": "35ba4d72-0d97-4ad4-9f0a-dae3a152176c",
   "metadata": {
    "scrolled": true,
    "tags": []
   },
   "outputs": [],
   "source": [
    "# DO NOT CHANGE THIS CELL\n",
    "!GST_DEBUG='GST_SCHEDULING:7' GST_DEBUG_FILE='/dli/task/logs/trace.log' python sample_apps/app_3_pt_1.py data/sample_30.h264"
   ]
  },
  {
   "cell_type": "code",
   "execution_count": null,
   "id": "e6b3c067-040b-429a-9edf-76e6bcf3794a",
   "metadata": {},
   "outputs": [],
   "source": [
    "# DO NOT CHANGE THIS CELL\n",
    "!head /dli/task/logs/trace.log"
   ]
  },
  {
   "cell_type": "code",
   "execution_count": null,
   "id": "50048f43-7e5f-4e63-b047-ee8f89cdd7b7",
   "metadata": {},
   "outputs": [],
   "source": [
    "# DO NOT CHANGE THIS CELL\n",
    "# Import dependencies\n",
    "import re\n",
    "\n",
    "trace_log=[]\n",
    "# Column headers per documentation\n",
    "headers=['time_stamp', 'process_id', 'thread_id', 'level', 'category', 'src_file_line', 'function', 'object_name', 'message']\n",
    "\n",
    "# Helper function to remove ANSI escape sequences\n",
    "def escape_ansi(line):\n",
    "    ansi_escape = re.compile(r'(?:\\x1B[@-_]|[\\x80-\\x9F])[0-?]*[ -/]*[@-~]')\n",
    "    return ansi_escape.sub('', line)\n",
    "\n",
    "# Open trace.log\n",
    "with open('/dli/task/logs/trace.log') as f: \n",
    "    # Read file\n",
    "    lines=f.readlines()\n",
    "    # Iterate through each line\n",
    "    for each_line in lines: \n",
    "        # Exclude the last character, which is a newline (\\n) character\n",
    "        current_line=escape_ansi(each_line[:-1])\n",
    "        # Split based on white space(s), keeping in mind that src_file, line, function, and object are concatenated together\n",
    "        time_stamp, process_id, thread_id, level, category, src_file_line_function_object, message=re.split(' +', current_line, maxsplit=6)\n",
    "        # Split src_file, line, function, and object based on the semicolon character\n",
    "        src_file, line, function, object=src_file_line_function_object.split(':', maxsplit=3)\n",
    "        # Add all data to the trace_log list\n",
    "        trace_log.append([time_stamp, process_id, thread_id, level, category, f'{src_file}:{line}', function, object, message])\n",
    "\n",
    "# Export data to a DataFrame\n",
    "df=pd.DataFrame(trace_log, columns=headers)\n",
    "# Preview the dataframe\n",
    "df.head()"
   ]
  },
  {
   "cell_type": "markdown",
   "id": "8036f4be-7baf-4f41-89a1-cbcacc1997c5",
   "metadata": {},
   "source": [
    "Each line captures the time stamp of the message as well as the time stamp of the frame in the `message` column. For demonstration, we've included the below script to parse out the time stamp of the frames being processed from the `message` column. By examining the time stamp of the messages related to the same frame, we can see when each frame enters different elements in the pipeline. We can therefore derive the approximate latency by analyzing the time differences. For example, we can calculate the time difference between getting a message from `fakesink` and `nvinfer` to determine the amount of time it took for `nvinfer` to process the frame. "
   ]
  },
  {
   "cell_type": "code",
   "execution_count": null,
   "id": "9a44b394-8207-43d7-ab74-ad631009ebba",
   "metadata": {},
   "outputs": [],
   "source": [
    "# DO NOT CHANGE THIS CELL\n",
    "# Iterate through rows backwards to get the time stamp\n",
    "for idx, row in df[::-1].iterrows(): \n",
    "    # Time stamp is pts if object is a sink\n",
    "    if row['object_name'] in ['<stream-muxer:sink_0>', '<primary-inference:sink>', '<fakesink:sink>']: \n",
    "        try: \n",
    "            df.loc[idx, 'frame_ts']=re.findall('pts \\d+:\\d+:\\d+.\\d+', row['message'])[0].split('pts ')[-1]\n",
    "        except: \n",
    "            pass\n",
    "    # Time stamp is dts if object is a decoder sink\n",
    "    elif row['object_name']=='<nvv4l2-decoder:sink>': \n",
    "        try: \n",
    "            ts=re.findall('dts \\d+:\\d+:\\d+.\\d+', row['message'])[0].split('dts ')[-1]\n",
    "            if ts: \n",
    "                df.loc[idx, 'frame_ts']=ts\n",
    "                decoder_offset=re.findall('offset \\d+', row['message'])[0].split('offset ')[-1]\n",
    "        except: \n",
    "            pass\n",
    "    # Time stamp is same as dts of decoder with same offset for file source\n",
    "    elif row['object_name']=='<file-source:src>':\n",
    "        try: \n",
    "            src_offset=re.findall('offset \\d+', row['message'])[0].split('offset ')[-1]\n",
    "            if src_offset==decoder_offset: \n",
    "                df.loc[idx, 'frame_ts']=ts\n",
    "        except: \n",
    "            pass"
   ]
  },
  {
   "cell_type": "code",
   "execution_count": null,
   "id": "56e72bdd-d057-4e91-b045-d6eea67ecd1e",
   "metadata": {},
   "outputs": [],
   "source": [
    "# DO NOT CHANGE THIS CELL\n",
    "time_df=df[['time_stamp', 'object_name', 'frame_ts']].dropna().drop_duplicates(subset=['object_name', 'frame_ts'])\n",
    "\n",
    "# Pivot dataframe\n",
    "time_df=time_df.pivot(index='object_name', values='time_stamp', columns='frame_ts')\n",
    "\n",
    "# Leave time stamp as only seconds \n",
    "time_df.columns=[float(each_column.split(':')[2]) for each_column in time_df.columns]\n",
    "\n",
    "# Display time_df\n",
    "time_df=time_df.sort_values(0.0).applymap(lambda x: float(x.rsplit(':')[2]))\n",
    "print('Time Stamp when Buffer Arrives (seconds)')\n",
    "display(time_df) "
   ]
  },
  {
   "cell_type": "code",
   "execution_count": null,
   "id": "e058a316-cd26-4521-8ce3-2a7a51a37801",
   "metadata": {},
   "outputs": [],
   "source": [
    "# DO NOT CHANGE THIS CELL\n",
    "# Calculate time difference as processed time\n",
    "diff_df=-time_df.diff(-1).T\n",
    "\n",
    "# Plot results\n",
    "diff_df.iloc[:, :-1].plot(figsize=(15, 5)).legend(loc='upper right')"
   ]
  },
  {
   "cell_type": "markdown",
   "id": "97145728-52a9-493d-831b-f592ea14ef88",
   "metadata": {},
   "source": [
    "<p><img src='images/check.png' width=720></p>\n",
    "Based on the plot, you can see the average time it takes for one frame of data to pass through the different elements. While there could be some variance, the latency should be relatively consistent over time. With the trace log, you can identify if any of the plugins in the pipeline is running slowly. "
   ]
  },
  {
   "cell_type": "markdown",
   "id": "afcf1371-ef98-42c4-9ff1-4f182e4e7aea",
   "metadata": {},
   "source": [
    "<a name='s4.3'></a>\n",
    "### GPU Utilization with NVIDIA System Management Interface ###\n",
    "**GPU utilization metrics** report how busy each GPU is over time and how much an application is using the GPUs in the system. We use `nvidia-smi` to explore the GPU utilization metrics while our application is running. We once again run [app_3_pt_1.py](sample_apps/app_3_pt_1.py) but this time while logging the results of `nvidia-smi`. We use the below options for `nvidia-smi`:\n",
    "* `dmon -i 0`: reports default metrics (device monitoring) for the devices selected by comma-separated device list. We are reporting default metrics for GPU with index 0 since that is the only GPU we are using: \n",
    "* `-s ucmt`: select metrics to be displayed. In this case, we supplied ucmt to indicate we want metrics for. \n",
    "    * `u`: utilization (SM, memory, encoder, and decoder utilization in %)\n",
    "    * `c`: proc and mem clocks (in MHz)\n",
    "    * `m`: frame buffer and bar1 memory usage (in MB)\n",
    "    * `t`: PCIe Rx and Tx throughput in MB/s (Maxwell and above)\n",
    "* `-c 10`: configure monitoring iterations. It will display data for specified number of samples and exit. In this case, we choose 10 iterations."
   ]
  },
  {
   "cell_type": "code",
   "execution_count": null,
   "id": "0de71536-0860-419b-aaaa-b5b4194401db",
   "metadata": {
    "scrolled": true,
    "tags": []
   },
   "outputs": [],
   "source": [
    "# DO NOT CHANGE THIS CELL\n",
    "!nvidia-smi dmon -i 0 \\\n",
    "                 -s ucmt \\\n",
    "                 -c 100 > '/dli/task/logs/smi.log' \\\n",
    "&python sample_apps/app_3_pt_1.py data/sample_30.h264"
   ]
  },
  {
   "cell_type": "markdown",
   "id": "234d5b1e-4eaa-49b1-b3b6-9f18e43c7ef1",
   "metadata": {},
   "source": [
    "We can view the `smi.log` in the terminal or [separately](./logs/smi.log). The `sm` column tracks the percent of the time over the past sample period during which one or more kernels were executing on the GPU. Separately, the `fb` column reports the GPU's frame buffer memory usage. "
   ]
  },
  {
   "cell_type": "code",
   "execution_count": null,
   "id": "d1e594ee-0eef-4a13-bd8f-4b4695f3d6ca",
   "metadata": {},
   "outputs": [],
   "source": [
    "# DO NOT CHANGE THIS CELL\n",
    "!cat /dli/task/logs/smi.log"
   ]
  },
  {
   "cell_type": "markdown",
   "id": "46a04aa9-211f-40c7-97fe-b773ea747f00",
   "metadata": {},
   "source": [
    "<p><img src='images/check.png' width=720></p>\n",
    "\n",
    "At a high level, applications should maintain a high utilization while not being at risk of exceeding the capacity. For those interested in learning more, comprehensive documentation can be accessed [here](http://developer.download.nvidia.com/compute/DCGM/docs/nvidia-smi-367.38.pdf). "
   ]
  },
  {
   "cell_type": "markdown",
   "id": "9c783f69-d92e-41ac-b260-0ee5a3889130",
   "metadata": {},
   "source": [
    "<a name='s5'></a>\n",
    "## Building a Video AI Application - Part 2 ##\n",
    "In part 2, we will add additional functionalities to the DeepStream pipeline to also create a composite video and write the output to a file. "
   ]
  },
  {
   "cell_type": "markdown",
   "id": "3d8f2642-dd24-47fc-ad20-9d6bb07cd9b9",
   "metadata": {},
   "source": [
    "<a name='s5.1'></a>\n",
    "### Pipeline Components ###\n",
    "This is the pipeline architecture of the application. We've adding new plugins based on their functionality. \n",
    "<p><img src='images/deepstream_pipeline.png' width=720></p>\n",
    "\n",
    "* The [filesrc](https://gstreamer.freedesktop.org/documentation/coreelements/filesrc.html) plugin will read data from a local file. There are other plugins available for reading data from various types of sources like camera, RTSP streams, and disk. \n",
    "* The [h264parse](https://gstreamer.freedesktop.org/documentation/videoparsersbad/h264parse.html) plugin is used to parse the input elementary H.264 stream into frame-size bytes of data. \n",
    "* The [nvv4l2decoder](https://gist.github.com/nins-k/6f7377629000894deedc7f14d7ef64fe) plugin will decode the input data using the appropriate codec, which is H.264 in this case.\n",
    "* The [nvstreammux](https://docs.nvidia.com/metropolis/deepstream/dev-guide/text/DS_plugin_gst-nvstreammux.html) plugin is a required stream aggregator. This video aggregator helps in accepting `n` input streams and converts them into sequential batched frames. Even though our simple application only consumes one input stream, this plugin is required as `nvinfer` accepts _batched_ buffers with the `NvDsBatchMeta` structure already attached. \n",
    "    * This plugin takes `width`,  `height`, and `batch-size` as parameters. \n",
    "* The [nvinfer](https://docs.nvidia.com/metropolis/deepstream/dev-guide/text/DS_plugin_gst-nvinfer.html) plugin performs transformation (format conversion and scaling) on the input frame based on network requirements and passes the transformed data to the low-level library. This is the plugin that we will use to define the deep learning task(s) associated with our application. The low-level library pre-processes the transformed frames (performs normalization and mean subtraction) and produces final float RGB/BGR/GRAY planar data which are passed to the TensorRT engine for inferencing. The output type generated by the low-level library depends on the network type. We will configure the `nvinfer` plugin for our `TrafficCamNet` object detection model. It attaches the inference results such as _object class(s)_, _bounding box coordinates_, _etc._, to the metadata.\n",
    "    * **Note**: Behaviour of inference is set through the config file. You can use the files provided below as a template or start the text file from scratch. \n",
    "* The [nvvideoconvert](https://docs.nvidia.com/metropolis/deepstream/dev-guide/text/DS_plugin_gst-nvvideoconvert.html) plugin converts frames from NV12 (YUV) to RGBA as required by `nvdsosd`. It is also capable of performing scaling, cropping, and rotating on the frames. \n",
    "* The [nvdsosd](https://docs.nvidia.com/metropolis/deepstream/dev-guide/text/DS_plugin_gst-nvdsosd.html) plugin draws bounding boxes and texts based on the metadata. It requires RGBA buffer as well as `NvDsBatchMeta`. \n",
    "* The [nvvideoconvert](https://docs.nvidia.com/metropolis/deepstream/dev-guide/text/DS_plugin_gst-nvvideoconvert.html) plugin converts frames from RGBA to I420 (YUV) as required by `avenc_mpeg4`. \n",
    "* The [capsfilter](https://gstreamer.freedesktop.org/documentation/coreelements/capsfilter.html) plugin does not modify data as such, but can enforce limitations on the data format. We use it to enforce the video conversion by `nvvideoconvert` to I420 (YUV) format. \n",
    "* The [avenc_mpeg4](https://gstreamer.freedesktop.org/documentation/libav/avenc_mpeg4.html) plugin encodes the I420 formatted frames using the MPEG4 codec. \n",
    "* The [filesink](https://gstreamer.freedesktop.org/documentation/coreelements/filesink.html) plugin writes incoming data to a file in the local file system. \n",
    "\n",
    "*More information about the plugins can be found in the [DeepStream Plugin Guide](https://docs.nvidia.com/metropolis/deepstream/dev-guide/index.html#plugins-development-guide) and [GStreamer Plugin Guide](https://gstreamer.freedesktop.org/documentation/plugins_doc.html).*\n",
    "\n",
    "Additionally, we will add a **callback function** on the sink pad of the `nvdsosd` plugin to access the metadata in the application. The application can then use this metadata to solve the given problem (in this case draw the bounding boxes and texts)."
   ]
  },
  {
   "cell_type": "markdown",
   "id": "5b6371e4-87cf-45a7-85fb-bc0ac8c164ab",
   "metadata": {},
   "source": [
    "<a name='s5.2'></a>\n",
    "### Initializing GStreamer and Pipeline ###\n",
    "To begin, we initialize GStreamer with `Gst.init(list=None)` and build a `Gst.Pipeline` object as `pipeline` using `build_simple_pipeline(input_source)`. We will modify the elements included in this pipeline. "
   ]
  },
  {
   "cell_type": "code",
   "execution_count": null,
   "id": "a4a8fcb6-08e6-4218-a95c-643b9f12c508",
   "metadata": {},
   "outputs": [],
   "source": [
    "# DO NOT CHANGE THIS CELL\n",
    "# Initialize GStreamer\n",
    "Gst.init(None)\n",
    "\n",
    "# Build pipeline\n",
    "pipeline=build_simple_pipeline('data/sample_30.h264')\n",
    "print('Successfully created a {} object'.format(type(pipeline)))"
   ]
  },
  {
   "cell_type": "markdown",
   "id": "f3105ce0-231d-4c41-a1aa-4c1d4e3b5ce1",
   "metadata": {},
   "source": [
    "<a name='s5.3'></a>\n",
    "### Modifying Pipeline Elements ###\n",
    "The simple pipeline created already includes `filesink` > `h264parse` > `nvv4l2decoder` > `nvstreammux` > `nvinfer` > `fakesink`. We modify this pipeline to suit our new use case. First, we _remove_ `fakesink` from the existing pipeline with `Gst.Pipeline.remove(element)`. Next, we create the `nvvideoconvert`, `nvdsosd`, another `nvvideoconvert`, `capsfilter`, `avenc_mpeg4`, and `filesink` elements using `Gst.ElementFactory.make(factoryname, name)` (see [documentation](https://lazka.github.io/pgi-docs/Gst-1.0/classes/ElementFactory.html#Gst.ElementFactory.make)). We can configure elements using `set_property(property_name, value)` (see [documentation](https://gstreamer.freedesktop.org/documentation/plugin-development/basics/args.html?gi-language=c)) with the required parameters as needed. Finally, we add the elements to the pipeline with `Gst.Pipeline.add(element)`. "
   ]
  },
  {
   "cell_type": "code",
   "execution_count": null,
   "id": "117ee958-b593-4963-8924-1795dca58946",
   "metadata": {},
   "outputs": [],
   "source": [
    "# DO NOT CHANGE THIS CELL\n",
    "# Remove Fakesink\n",
    "fakesink=pipeline.get_by_name('fakesink')\n",
    "pipeline.remove(fakesink)\n",
    "\n",
    "# Create Convertor to convert from YUV to RGBA as required by nvdsosd\n",
    "nvvidconv1=Gst.ElementFactory.make(\"nvvideoconvert\", \"convertor1\")\n",
    "\n",
    "# Create OSD with nvdsosd to draw on the converted RGBA buffer\n",
    "nvosd=Gst.ElementFactory.make(\"nvdsosd\", \"onscreendisplay\")\n",
    "\n",
    "# Create Convertor to convert from RGBA to I420 as required by encoder\n",
    "nvvidconv2=Gst.ElementFactory.make(\"nvvideoconvert\", \"convertor2\")\n",
    "\n",
    "# Create Capsfilter to enforce frame image format\n",
    "capsfilter=Gst.ElementFactory.make(\"capsfilter\", \"capsfilter\")\n",
    "caps=Gst.Caps.from_string(\"video/x-raw, format=I420\")\n",
    "capsfilter.set_property(\"caps\", caps)\n",
    "\n",
    "# Create Encoder to encode I420 formatted frames using the MPEG4 codec\n",
    "encoder = Gst.ElementFactory.make(\"avenc_mpeg4\", \"encoder\")\n",
    "encoder.set_property(\"bitrate\", 2000000)\n",
    "\n",
    "# Create Sink and set the location for the output file\n",
    "filesink=Gst.ElementFactory.make('filesink', 'filesink')\n",
    "filesink.set_property('location', 'output_03_encoded.mpeg4')\n",
    "filesink.set_property(\"sync\", 1)\n",
    "print('Created elements')"
   ]
  },
  {
   "cell_type": "code",
   "execution_count": null,
   "id": "b53135d0-618b-41cc-9df0-535bb106fa2b",
   "metadata": {},
   "outputs": [],
   "source": [
    "# DO NOT CHANGE THIS CELL\n",
    "# Add elements to pipeline\n",
    "pipeline.add(nvvidconv1)\n",
    "pipeline.add(nvosd)\n",
    "pipeline.add(nvvidconv2)\n",
    "pipeline.add(capsfilter)\n",
    "pipeline.add(encoder)\n",
    "pipeline.add(filesink)\n",
    "print('Added elements to pipeline')"
   ]
  },
  {
   "cell_type": "markdown",
   "id": "09f97e2e-e015-48e2-8479-cc672ca9ee44",
   "metadata": {},
   "source": [
    "<a name='s5.4'></a>\n",
    "### Linking Pipeline Elements ###\n",
    "Finally, we link all these elements in the order that data flow through the pipeline with `Gst.Element.link(Gst.Element)`."
   ]
  },
  {
   "cell_type": "code",
   "execution_count": null,
   "id": "84226f27-6ca5-45f2-8fe5-6b655e658025",
   "metadata": {},
   "outputs": [],
   "source": [
    "# DO NOT CHANGE THIS CELL\n",
    "# Get the nvinfer plugin by name\n",
    "pgie=pipeline.get_by_name('primary-inference')\n",
    "\n",
    "# Link elements together\n",
    "pgie.link(nvvidconv1)\n",
    "nvvidconv1.link(nvosd)\n",
    "nvosd.link(nvvidconv2)\n",
    "nvvidconv2.link(capsfilter)\n",
    "capsfilter.link(encoder)\n",
    "encoder.link(filesink)\n",
    "print('Linked elements in pipeline')"
   ]
  },
  {
   "cell_type": "markdown",
   "id": "38ecd31d-40c6-4bde-9556-e3c91bfb32f4",
   "metadata": {},
   "source": [
    "<a name='s5.5'></a>\n",
    "### Modify Probe to Draw on Frames ###\n",
    "By the time the buffers reach the `nvdsosd` plugin, it will have the metadata it needs to draw bounding boxes and text labels for the detected objects on the frames. This means that a probe will not be needed if the default settings are sufficient. Based on specific use cases, we can use a probe to access and modify the metadata used by `nvdsosd` to draw, but it would have to be inserted at or before the `sink` pad of the `nvdsosd` plugin. To access the metadata, we can use the DeepStream Python bindings, `pyds`. There are generally two types of metadata we are interested in for drawing: \n",
    "* `NvDsObjectMeta.rect_params` and `NvDsObjectMeta.text_params` related to the objects detected or\n",
    "* `NvDsBatchMeta` > `NvDsFrameMeta` > `NvDsDisplayMeta` related to overlays we want to add to each frame\n",
    "\n",
    "There are a few similar parameters we can change for each but adding overlays to each frame requires some additional work. In order to acquire this display metadata, we use `pyds.nvds_acquire_display_meta_from_pool(batch_meta)` and set `num_labels`, `num_rects`, and `num_lines`. We can then assign values via `text_params`, `rect_params`, and `line_params`. The display metadata have to be added to the frame metadata with `pyds.nvds_add_display_meta_to_frame(frame_meta, display_meta)` for drawing. \n",
    "\n",
    "We write the user-defined callback function `osd_sink_pad_buffer_probe`. Inside the function, we iterate through all the metadata types that are attached to the buffer. We want to add a text label at the top of each frame and modify the border color of the bounding boxes. "
   ]
  },
  {
   "cell_type": "code",
   "execution_count": null,
   "id": "98f39bbf-bae6-4b21-b465-9658b2a07a96",
   "metadata": {},
   "outputs": [],
   "source": [
    "# DO NOT CHANGE THIS CELL\n",
    "from random import random\n",
    "\n",
    "# Define the Probe Function\n",
    "def osd_sink_pad_buffer_probe(pad, info):\n",
    "    gst_buffer=info.get_buffer()\n",
    "\n",
    "    # Retrieve batch metadata from the gst_buffer\n",
    "    # Note that pyds.gst_buffer_get_nvds_batch_meta() expects the\n",
    "    # C address of gst_buffer as input, which is obtained with hash(gst_buffer)\n",
    "    batch_meta=pyds.gst_buffer_get_nvds_batch_meta(hash(gst_buffer))\n",
    "    l_frame=batch_meta.frame_meta_list\n",
    "\n",
    "    # Iterate through each frame in the batch metadata until the end\n",
    "    while l_frame is not None:\n",
    "        try:\n",
    "            frame_meta=pyds.NvDsFrameMeta.cast(l_frame.data)\n",
    "        except StopIteration:\n",
    "            break\n",
    "\n",
    "        frame_number=frame_meta.frame_num\n",
    "        num_rects=frame_meta.num_obj_meta\n",
    "        l_obj=frame_meta.obj_meta_list\n",
    "        \n",
    "        # Iterate through each object in the frame metadata until the end\n",
    "        while l_obj is not None:\n",
    "            try:\n",
    "                obj_meta=pyds.NvDsObjectMeta.cast(l_obj.data)\n",
    "            except StopIteration:\n",
    "                break\n",
    "            \n",
    "            # Set border color (red, green, blue, alpha) to random values\n",
    "            obj_meta.rect_params.border_color.set(random(), random(), random(), random())\n",
    "            \n",
    "            try: \n",
    "                l_obj=l_obj.next\n",
    "            except StopIteration:\n",
    "                break\n",
    "\n",
    "        # Acquire display metadata from pool and set number of labels to 1\n",
    "        display_meta=pyds.nvds_acquire_display_meta_from_pool(batch_meta)\n",
    "        display_meta.num_labels=1\n",
    "        \n",
    "        # Set text_params of the display metadata to local variable\n",
    "        py_nvosd_text_params=display_meta.text_params[0]\n",
    "\n",
    "        # Setting display text to be shown on screen\n",
    "        py_nvosd_text_params.display_text=\"Frame Number={} Number of Objects={}\".format(frame_number, num_rects)\n",
    "\n",
    "        # Use pyds.get_string() to get display_text as string\n",
    "        # Reading the display_text field here will return the C address of the\n",
    "        # allocated string. Use pyds.get_string() to get the string content.\n",
    "        print(pyds.get_string(py_nvosd_text_params.display_text))\n",
    "        \n",
    "        # Set the offsets where the string should appear\n",
    "        py_nvosd_text_params.x_offset=10\n",
    "        py_nvosd_text_params.y_offset=10\n",
    "\n",
    "        # Set font, font-color (red, green, blue, alpha), and font-size\n",
    "        py_nvosd_text_params.font_params.font_name=\"Serif\"\n",
    "        py_nvosd_text_params.font_params.font_size=15\n",
    "        py_nvosd_text_params.font_params.font_color.set(1.0, 1.0, 1.0, 1.0)\n",
    "\n",
    "        # Set text background color (red, green, blue, alpha)\n",
    "        py_nvosd_text_params.set_bg_clr=1\n",
    "        py_nvosd_text_params.text_bg_clr.set(0.0, 0.0, 0.0, 1.0)\n",
    "\n",
    "        # Add to frame metadata\n",
    "        pyds.nvds_add_display_meta_to_frame(frame_meta, display_meta)\n",
    "\n",
    "        try:\n",
    "            l_frame=l_frame.next\n",
    "        except StopIteration:\n",
    "            break\n",
    "    return Gst.PadProbeReturn.OK"
   ]
  },
  {
   "cell_type": "markdown",
   "id": "ee3c9008-49c4-4b9c-8f6b-55406b2197e3",
   "metadata": {},
   "source": [
    "With the pipeline defined and the elements linked, we add the callback function on the sink pad of the `nvdsosd` plugin using `Gst.Pad.add_probe(mask, callback)`. While attached, the probe notifies when there are data passing on a pad. We can use `GST_PAD_PROBE_TYPE_BUFFER` or `GST_PAD_PROBE_TYPE_BUFFER_LIST` for `mask` when creating the probe. We designed the callback function to work with a single buffer so we're using `Gst.PadProbeType.BUFFER`. "
   ]
  },
  {
   "cell_type": "code",
   "execution_count": null,
   "id": "f5046bf3-4603-4e00-89fc-03153c60554c",
   "metadata": {},
   "outputs": [],
   "source": [
    "# DO NOT CHANGE THIS CELL\n",
    "# Add probe to nvdsosd plugin's sink\n",
    "osdsinkpad=nvosd.get_static_pad(\"sink\")\n",
    "probe_id=osdsinkpad.add_probe(Gst.PadProbeType.BUFFER, osd_sink_pad_buffer_probe)\n",
    "print('Attached probe')"
   ]
  },
  {
   "cell_type": "markdown",
   "id": "d4b2351c-57da-4ff7-bcfb-1de33590fdf2",
   "metadata": {},
   "source": [
    "<a name='s5.6'></a>\n",
    "### Starting the Pipeline ###\n",
    "The pipeline has a bus that we will use to monitor messages. We run a GLib/Gtk+ `MainLoop` (or iterate the default GLib main context regularly) and attach a watch/message handler to the bus with `Gst.Bus.add_signal_watch()`. This way the `GLib.Mainloop` will check the bus for new messages and notify us. The message handler is also achieved through a callback function, which we define as `bus_call`. This handler will be called whenever the pipeline emits a message to the bus. The return value of the callback function should be `True` to keep it attached to the bus. Since this callback function for checking messages to the bus is used by many of the DeepStream applications, we refactor it into a [Python script](common/bus_call.py) (`./common/bus_call.py`) for ease of use. When we use `inpsect.getsource(object)` to look at the definition of the function, we find that it's a simple procedure that checks for the message type and handles them accordingly. With the message handler in place, we put the pipeline in the `PLAYING` state and run the `MainLoop`. Finally, when the pipeline is finished, we put the pipeline into the `NULL` state to clean up."
   ]
  },
  {
   "cell_type": "code",
   "execution_count": null,
   "id": "e0e1f038-d308-4eab-a0c1-3314f7cfc23e",
   "metadata": {},
   "outputs": [],
   "source": [
    "# DO NOT CHANGE THIS CELL\n",
    "# Create an event loop\n",
    "loop=GLib.MainLoop()\n",
    "\n",
    "# Feed GStreamer bus messages to loop\n",
    "bus=pipeline.get_bus()\n",
    "bus.add_signal_watch()\n",
    "bus.connect(\"message\", bus_call, loop)\n",
    "print('Added bus message handler')"
   ]
  },
  {
   "cell_type": "code",
   "execution_count": null,
   "id": "b3903e11-9aba-4246-aa7c-a18fa673aa1a",
   "metadata": {
    "scrolled": true,
    "tags": []
   },
   "outputs": [],
   "source": [
    "# DO NOT CHANGE THIS CELL\n",
    "# Start play back and listen to events - this will generate the output_03_raw.mpeg4 file\n",
    "print(\"Starting pipeline\")\n",
    "pipeline.set_state(Gst.State.PLAYING)\n",
    "try:\n",
    "    loop.run()\n",
    "except:\n",
    "    pass\n",
    "\n",
    "# Cleaning up as the pipeline comes to an end\n",
    "pipeline.set_state(Gst.State.NULL)"
   ]
  },
  {
   "cell_type": "markdown",
   "id": "af586379-71b2-4261-b860-9d5dfe0f4c12",
   "metadata": {},
   "source": [
    "<a name='s5.7'></a>\n",
    "### Viewing the Inference ###\n",
    "In the next step, we convert the video file into a container file before playing it since the MPEG4 encoded video file can't be played directly in JupyterLab. The [FFmpeg](https://ffmpeg.org/) tool is a very fast video and audio converter with the general syntax: \n",
    "* `ffmpeg [global_options] {[input_file_options] -i input_url} ... {[output_file_options] output_url} ...` \n",
    "\n",
    "When using the `ffmpeg` command, the `-i` option lets us read an input URL, the `-loglevel quiet` option suppresses the logs to reduce the output, and the `-y` flag overwrites any existing output file with the same name. "
   ]
  },
  {
   "cell_type": "code",
   "execution_count": null,
   "id": "a0b73995-a8b0-4451-9ac2-5d8faecc23f4",
   "metadata": {},
   "outputs": [],
   "source": [
    "# DO NOT CHANGE THIS CELL\n",
    "# Convert MPEG4 video file to MP4 container file\n",
    "!ffmpeg -i /dli/task/output_03_encoded.mpeg4 /dli/task/output_03.mp4 \\\n",
    "        -y \\\n",
    "        -loglevel quiet\n",
    "\n",
    "# View the output video\n",
    "Video(\"output_03.mp4\", width=720)"
   ]
  },
  {
   "cell_type": "markdown",
   "id": "18392485",
   "metadata": {},
   "source": [
    "<a name='s6'></a>\n",
    "## Troubleshooting ##\n",
    "Below are resolutions to some common issues. \n",
    "<p><img src='images/tip.png' width=720></p>\n",
    "\n",
    "**Issue**: “NvDsBatchMeta not found for input buffer” error while running the DeepStream pipeline? \n",
    "<br>\n",
    "**Solution**: The Gst-nvstreammux plugin is not in the pipeline. Starting with DeepStream 4.0, Gst-nvstreammux is a required plugin\n",
    "\n",
    "**Issue**: The DeepStream application is running slowly.\n",
    "<br>\n",
    "**Solution**: When creating the `Gst-nvstreammux` plugin, set `width` and `height` to the stream’s resolution.\n",
    "\n",
    "**Issue**: The DeepStream application doesn't run. \n",
    "<br>\n",
    "**Solution**: Check the configuration file for `nvinfer`, particularly the `target_classes`. The list of classes must match what the networks has been trained for. The order of the list must be the same as that during training."
   ]
  },
  {
   "cell_type": "markdown",
   "id": "b70da617",
   "metadata": {},
   "source": [
    "**Well Done!** When you're ready, let's move to the [next notebook](./04_building_a_MDNN_DeepStream_application.ipynb)."
   ]
  },
  {
   "cell_type": "markdown",
   "id": "943e6e5a",
   "metadata": {},
   "source": [
    "<a href=\"https://www.nvidia.com/dli\"> <img src=\"images/DLI_Header.png\" alt=\"Header\" style=\"width: 400px;\"/> </a>"
   ]
  }
 ],
 "metadata": {
  "kernelspec": {
   "display_name": "Python 3",
   "language": "python",
   "name": "python3"
  },
  "language_info": {
   "codemirror_mode": {
    "name": "ipython",
    "version": 3
   },
   "file_extension": ".py",
   "mimetype": "text/x-python",
   "name": "python",
   "nbconvert_exporter": "python",
   "pygments_lexer": "ipython3",
   "version": "3.6.9"
  }
 },
 "nbformat": 4,
 "nbformat_minor": 5
}
